{
 "cells": [
  {
   "cell_type": "markdown",
   "metadata": {},
   "source": [
    "Top two versus bottom two deciles in tertms of firm survival over dataset. SBA stat - 50% of firms survive five years or less. Let $P = 12\\%$ be both the departure and arrival rate of firms, per SBA guidance. Binomial survivor probability:\n",
    "\n",
    "$T = \\text{Survival time}$\n",
    "\n",
    "$\\text{Prob(Survival)} = P^{T}(1-P)^{1-T}$\n",
    "\n",
    "\n"
   ]
  },
  {
   "cell_type": "markdown",
   "metadata": {},
   "source": [
    "Find unique words per stratification. Write a dictionary with the below regression:\n",
    "$\\text{\\Delta Percentage of times location name mentioned} = \\beta_{0} + \\sum_{n=1}^{N}\\beta_{X_{n}}X_{n} + \\epsilon$\n",
    "\n",
    "Where $X_{n}$ is the regressor indexed at n and N is the total number of regressors. Vary regressors over firm descriptors to find features that best describe a restaurant for a given location. \n",
    "\n",
    "Supervised learning using the Harvard IV sentiment dictionary:\n",
    "\n",
    "http://www.wjh.harvard.edu/~inquirer/homecat.htm\n",
    "\n",
    "Run following regression to determine the regressors that best explaing the Yelp rating\n",
    "$Rating number = \\beta_{0} + \\beta_{S}S + \\epsilon$, where $S$ is the textual sentiment secore.\n",
    "$S \\in \\{\\text{Delta Net Optimism, Delta Negative, Negative, Positive}\\}$. \n"
   ]
  },
  {
   "cell_type": "markdown",
   "metadata": {},
   "source": [
    "We want the following dataframe setup:\n",
    "\n"
   ]
  },
  {
   "cell_type": "code",
   "execution_count": 1,
   "metadata": {
    "collapsed": true
   },
   "outputs": [],
   "source": [
    "import ijson \n",
    "\n",
    "def load_json_business(filename, states):\n",
    "    records = []\n",
    "    with open(filename, 'r') as fd:\n",
    "        for line in fd:\n",
    "            j_content = json.loads(line)\n",
    "            if j_content['state'] in states:\n",
    "                records.append(j_content)\n",
    "                \n",
    "    return records\n",
    "\n",
    "def load_json_reviews(filename, biz_list):\n",
    "    records = []\n",
    "    with open(filename, 'r') as fd:\n",
    "        for line in fd:\n",
    "            j_content = json.loads(line)\n",
    "            if j_content['business_id'] in biz_list:\n",
    "                records.append(j_content)\n",
    "                \n",
    "    return records\n",
    "\n",
    "def load_json_users(filename, user_list):\n",
    "    records = []\n",
    "    with open(filename, 'r') as fd:\n",
    "        for line in fd:\n",
    "            j_content = json.loads(line)\n",
    "            if j_content['user_id'] in user_list:\n",
    "                records.append(j_content)\n",
    "                \n",
    "    return records"
   ]
  },
  {
   "cell_type": "code",
   "execution_count": 17,
   "metadata": {
    "collapsed": false
   },
   "outputs": [],
   "source": [
    "import pandas as pd\n",
    "HIV_4 = pd.read_csv('/Volumes/Data/HIV-4.csv')\n",
    "HIV_4_neg = HIV_4.loc[(HIV_4['Negativ'] == 'Negativ')]\n",
    "HIV_4_pos = HIV_4.loc[(HIV_4['Positiv'] == 'Positiv')]"
   ]
  },
  {
   "cell_type": "code",
   "execution_count": 2,
   "metadata": {
    "collapsed": false
   },
   "outputs": [],
   "source": [
    "import json\n",
    "data_dir = '/Volumes/Data/yelp_dataset/'\n",
    "jsonFile = data_dir + 'yelp_academic_dataset_business.json'\n",
    "states = ['AZ', 'IL', 'WI', 'OH', 'NC', 'NV']\n",
    "state_data = load_json_business(jsonFile, states)"
   ]
  },
  {
   "cell_type": "code",
   "execution_count": 3,
   "metadata": {
    "collapsed": false
   },
   "outputs": [],
   "source": [
    "business_ID = []\n",
    "for entry in state_data:\n",
    "    business_ID.append(entry['business_id'])\n",
    "business_ID = set(business_ID)"
   ]
  },
  {
   "cell_type": "code",
   "execution_count": 4,
   "metadata": {
    "collapsed": false
   },
   "outputs": [
    {
     "ename": "IOError",
     "evalue": "[Errno 6] Device not configured",
     "output_type": "error",
     "traceback": [
      "\u001b[0;31m---------------------------------------------------------------------------\u001b[0m",
      "\u001b[0;31mIOError\u001b[0m                                   Traceback (most recent call last)",
      "\u001b[0;32m<ipython-input-4-36d66989a99c>\u001b[0m in \u001b[0;36m<module>\u001b[0;34m()\u001b[0m\n\u001b[1;32m      1\u001b[0m \u001b[0mjsonFile\u001b[0m \u001b[0;34m=\u001b[0m \u001b[0mdata_dir\u001b[0m \u001b[0;34m+\u001b[0m \u001b[0;34m'yelp_academic_dataset_review.json'\u001b[0m\u001b[0;34m\u001b[0m\u001b[0m\n\u001b[0;32m----> 2\u001b[0;31m \u001b[0mreview_data\u001b[0m \u001b[0;34m=\u001b[0m \u001b[0mload_json_reviews\u001b[0m\u001b[0;34m(\u001b[0m\u001b[0mjsonFile\u001b[0m\u001b[0;34m,\u001b[0m \u001b[0mbusiness_ID\u001b[0m\u001b[0;34m)\u001b[0m\u001b[0;34m\u001b[0m\u001b[0m\n\u001b[0m",
      "\u001b[0;32m<ipython-input-1-f735f42e831a>\u001b[0m in \u001b[0;36mload_json_reviews\u001b[0;34m(filename, biz_list)\u001b[0m\n\u001b[1;32m     14\u001b[0m     \u001b[0mrecords\u001b[0m \u001b[0;34m=\u001b[0m \u001b[0;34m[\u001b[0m\u001b[0;34m]\u001b[0m\u001b[0;34m\u001b[0m\u001b[0m\n\u001b[1;32m     15\u001b[0m     \u001b[0;32mwith\u001b[0m \u001b[0mopen\u001b[0m\u001b[0;34m(\u001b[0m\u001b[0mfilename\u001b[0m\u001b[0;34m,\u001b[0m \u001b[0;34m'r'\u001b[0m\u001b[0;34m)\u001b[0m \u001b[0;32mas\u001b[0m \u001b[0mfd\u001b[0m\u001b[0;34m:\u001b[0m\u001b[0;34m\u001b[0m\u001b[0m\n\u001b[0;32m---> 16\u001b[0;31m         \u001b[0;32mfor\u001b[0m \u001b[0mline\u001b[0m \u001b[0;32min\u001b[0m \u001b[0mfd\u001b[0m\u001b[0;34m:\u001b[0m\u001b[0;34m\u001b[0m\u001b[0m\n\u001b[0m\u001b[1;32m     17\u001b[0m             \u001b[0mj_content\u001b[0m \u001b[0;34m=\u001b[0m \u001b[0mjson\u001b[0m\u001b[0;34m.\u001b[0m\u001b[0mloads\u001b[0m\u001b[0;34m(\u001b[0m\u001b[0mline\u001b[0m\u001b[0;34m)\u001b[0m\u001b[0;34m\u001b[0m\u001b[0m\n\u001b[1;32m     18\u001b[0m             \u001b[0;32mif\u001b[0m \u001b[0mj_content\u001b[0m\u001b[0;34m[\u001b[0m\u001b[0;34m'business_id'\u001b[0m\u001b[0;34m]\u001b[0m \u001b[0;32min\u001b[0m \u001b[0mbiz_list\u001b[0m\u001b[0;34m:\u001b[0m\u001b[0;34m\u001b[0m\u001b[0m\n",
      "\u001b[0;31mIOError\u001b[0m: [Errno 6] Device not configured"
     ]
    }
   ],
   "source": [
    "jsonFile = data_dir + 'yelp_academic_dataset_review.json'\n",
    "review_data = load_json_reviews(jsonFile, business_ID)"
   ]
  },
  {
   "cell_type": "code",
   "execution_count": null,
   "metadata": {
    "collapsed": false
   },
   "outputs": [],
   "source": [
    "review_data[1]"
   ]
  }
 ],
 "metadata": {
  "anaconda-cloud": {},
  "kernelspec": {
   "display_name": "py3",
   "language": "python",
   "name": "py3"
  },
  "language_info": {
   "codemirror_mode": {
    "name": "ipython",
    "version": 2
   },
   "file_extension": ".py",
   "mimetype": "text/x-python",
   "name": "python",
   "nbconvert_exporter": "python",
   "pygments_lexer": "ipython2",
   "version": "2.7.12"
  }
 },
 "nbformat": 4,
 "nbformat_minor": 1
}
